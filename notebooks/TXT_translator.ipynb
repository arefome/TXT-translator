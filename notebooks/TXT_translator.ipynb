{
  "nbformat": 4,
  "nbformat_minor": 0,
  "metadata": {
    "colab": {
      "provenance": [],
      "collapsed_sections": [
        "G0tjar3xhR90",
        "uc3cxMzqg229",
        "M4IJmT6wnb5W"
      ],
      "gpuType": "T4"
    },
    "kernelspec": {
      "name": "python3",
      "display_name": "Python 3"
    },
    "language_info": {
      "name": "python"
    },
    "gpuClass": "standard"
  },
  "cells": [
    {
      "cell_type": "markdown",
      "source": [
        "# **Traduccion de TXT's:** \n",
        "Repositorio: [TXT-translator](https://github.com/arefome/TXT-translator)"
      ],
      "metadata": {
        "id": "iS4jyY9kvy5g"
      }
    },
    {
      "cell_type": "markdown",
      "source": [
        "### **Carga de archivos:** Ejecute esta celda para cargar los archivos a traducir. Puede omitirla y subirlos directamente en una carpeta \"input\""
      ],
      "metadata": {
        "id": "zuPGsqafhUSL"
      }
    },
    {
      "cell_type": "code",
      "source": [
        "from google.colab import files\n",
        "uploaded_file = files.upload()"
      ],
      "metadata": {
        "id": "s-WkX1OF65uc"
      },
      "execution_count": null,
      "outputs": []
    },
    {
      "cell_type": "markdown",
      "source": [
        "## Cargar librerías y funciones para traducir"
      ],
      "metadata": {
        "id": "g_GOSlschiRC"
      }
    },
    {
      "cell_type": "code",
      "metadata": {
        "colab": {
          "base_uri": "https://localhost:8080/"
        },
        "id": "fIQEdFyiRK2T",
        "outputId": "1807d037-467b-4218-b304-6fc3f7b1a2dd"
      },
      "source": [
        "!pip install -U deep-translator"
      ],
      "execution_count": 3,
      "outputs": [
        {
          "output_type": "stream",
          "name": "stdout",
          "text": [
            "Looking in indexes: https://pypi.org/simple, https://us-python.pkg.dev/colab-wheels/public/simple/\n",
            "Collecting deep-translator\n",
            "  Downloading deep_translator-1.11.0-py3-none-any.whl (37 kB)\n",
            "Requirement already satisfied: beautifulsoup4<5.0.0,>=4.9.1 in /usr/local/lib/python3.10/dist-packages (from deep-translator) (4.11.2)\n",
            "Requirement already satisfied: requests<3.0.0,>=2.23.0 in /usr/local/lib/python3.10/dist-packages (from deep-translator) (2.27.1)\n",
            "Requirement already satisfied: soupsieve>1.2 in /usr/local/lib/python3.10/dist-packages (from beautifulsoup4<5.0.0,>=4.9.1->deep-translator) (2.4.1)\n",
            "Requirement already satisfied: urllib3<1.27,>=1.21.1 in /usr/local/lib/python3.10/dist-packages (from requests<3.0.0,>=2.23.0->deep-translator) (1.26.15)\n",
            "Requirement already satisfied: certifi>=2017.4.17 in /usr/local/lib/python3.10/dist-packages (from requests<3.0.0,>=2.23.0->deep-translator) (2022.12.7)\n",
            "Requirement already satisfied: charset-normalizer~=2.0.0 in /usr/local/lib/python3.10/dist-packages (from requests<3.0.0,>=2.23.0->deep-translator) (2.0.12)\n",
            "Requirement already satisfied: idna<4,>=2.5 in /usr/local/lib/python3.10/dist-packages (from requests<3.0.0,>=2.23.0->deep-translator) (3.4)\n",
            "Installing collected packages: deep-translator\n",
            "Successfully installed deep-translator-1.11.0\n"
          ]
        }
      ]
    },
    {
      "cell_type": "code",
      "source": [
        "import requests\n",
        "from deep_translator import GoogleTranslator\n",
        "\n",
        "def translate_text(text):\n",
        "    max_chars = 4500\n",
        "\n",
        "    # Divide el texto en líneas en lugar de caracteres individuales\n",
        "    text_lines = text.splitlines()\n",
        "\n",
        "    # Traduce cada línea y almacena las traducciones\n",
        "    translated_lines = []\n",
        "    current_chars = 0\n",
        "    current_part = \"\"\n",
        "    translator = GoogleTranslator(source='auto', target='es')\n",
        "    for line in text_lines:\n",
        "        if current_chars + len(line) < max_chars:\n",
        "            current_part += line + \"\\n\"\n",
        "            current_chars += len(line) + 1\n",
        "        else:\n",
        "            translated_part = translator.translate(current_part)\n",
        "            translated_lines.append(translated_part)\n",
        "            current_part = line + \"\\n\"\n",
        "            current_chars = len(line) + 1\n",
        "\n",
        "    # Traduce y almacena la última parte del texto\n",
        "    translated_part = translator.translate(current_part)\n",
        "    translated_lines.append(translated_part)\n",
        "\n",
        "    # Une las líneas traducidas en un solo texto\n",
        "    translated_text = ' '.join(translated_lines)\n",
        "\n",
        "    return translated_text"
      ],
      "metadata": {
        "id": "P_GsTpc87X0s"
      },
      "execution_count": 7,
      "outputs": []
    },
    {
      "cell_type": "markdown",
      "source": [
        "## **Guardar traducción como txt**"
      ],
      "metadata": {
        "id": "G0tjar3xhR90"
      }
    },
    {
      "cell_type": "markdown",
      "source": [
        "Ejecutar esta celda para crear la carpeta de salida"
      ],
      "metadata": {
        "id": "hMShNdZ8lM6b"
      }
    },
    {
      "cell_type": "code",
      "source": [
        "import os\n",
        "\n",
        "output_folder = 'output_txt'\n",
        "\n",
        "# Verificar si la carpeta de salida ya existe\n",
        "if not os.path.exists(output_folder):\n",
        "    # Crear la carpeta de salida si no existe\n",
        "    os.makedirs(output_folder)\n",
        "    print(f\"Carpeta '{output_folder}' creada exitosamente.\")\n",
        "else:\n",
        "    print(f\"La carpeta '{output_folder}' ya existe.\")\n"
      ],
      "metadata": {
        "id": "uM9AB2a3V7lv",
        "colab": {
          "base_uri": "https://localhost:8080/"
        },
        "outputId": "36145042-91e0-47bd-932d-ead4f93db521"
      },
      "execution_count": 5,
      "outputs": [
        {
          "output_type": "stream",
          "name": "stdout",
          "text": [
            "Carpeta 'output_txt' creada exitosamente.\n"
          ]
        }
      ]
    },
    {
      "cell_type": "markdown",
      "source": [
        "Si cargó los archivos ejecutando la celda de carga, ejecute esta celda para guardar las traducciones"
      ],
      "metadata": {
        "id": "us87uUBFiXW6"
      }
    },
    {
      "cell_type": "code",
      "source": [
        "for filename, content in uploaded_file.items():\n",
        "    file_text = content.decode('utf-8')\n",
        "    translated_text = translate_text(file_text) \n",
        "    new_filename = 'output_txt/' + filename.split('.')[0] + '_es.txt' \n",
        "    with open(new_filename, 'w') as file:\n",
        "        file.write(translated_text)\n",
        "        print(file.name)\n"
      ],
      "metadata": {
        "id": "3ATBFa9YiLF7"
      },
      "execution_count": 8,
      "outputs": []
    },
    {
      "cell_type": "markdown",
      "source": [
        "Ejecutar si cargo los archivos a la carpeta \"input\""
      ],
      "metadata": {
        "id": "fC2dhZ7qi1Mz"
      }
    },
    {
      "cell_type": "code",
      "source": [
        "import os\n",
        "\n",
        "input_folder = 'input'\n",
        "# Obtener la lista de archivos en la carpeta de entrada\n",
        "file_list = [file for file in os.listdir(input_folder) if file.endswith('.txt')]\n",
        "\n",
        "for file_name in file_list:\n",
        "    # Ruta completa de entrada y salida para el archivo actual\n",
        "    input_file_path = os.path.join(input_folder, file_name)\n",
        "    output_file_path = os.path.join(output_folder, file_name)\n",
        "    print(file_name)\n",
        "    with open(input_file_path, 'r') as input_file:\n",
        "        data = input_file.read()\n",
        "        #file_text = content.decode('utf-8')\n",
        "        translated_text = translate_text(data)\n",
        "        new_filename = os.path.join(output_folder, file_name.split('.')[0] + '_es.txt') \n",
        "        with open(new_filename, 'w', encoding=\"utf-8\") as file:\n",
        "            file.write(translated_text)\n",
        "            print(file.name)"
      ],
      "metadata": {
        "id": "e6hIBfagiV1K"
      },
      "execution_count": null,
      "outputs": []
    },
    {
      "cell_type": "markdown",
      "source": [
        "## **Convertir archivos traducidos en formato HTML**"
      ],
      "metadata": {
        "id": "uc3cxMzqg229"
      }
    },
    {
      "cell_type": "code",
      "source": [
        "import re\n",
        "def get_html_template(text):\n",
        "    \n",
        "    title_regex = r\"<--(.+?)-->\"\n",
        "    match = re.search(title_regex, text)\n",
        "    if match:\n",
        "        title = match.group(1)\n",
        "        text = re.sub(r\"<--(.+?)-->\", '\\n', text)\n",
        "    else:\n",
        "        title = \"Título no encontrado\"\n",
        "      \n",
        "    html_template = \"\"\"\n",
        "    <html>\n",
        "    <head>\n",
        "        <meta charset=\"UTF-8\">\n",
        "        <style>\n",
        "        body {{\n",
        "            font-family: Arial, sans-serif;\n",
        "            line-height: 1.5;\n",
        "            margin: 20px;\n",
        "            padding: 10px;\n",
        "        }}\n",
        "        \n",
        "        h1 {{\n",
        "            color: #333;\n",
        "            font-size: 44px;\n",
        "            margin-bottom: 20px;\n",
        "        }}\n",
        "        \n",
        "        p {{\n",
        "            color: #666;\n",
        "            font-size: 36px;\n",
        "            margin-bottom: 10px;\n",
        "        }}\n",
        "        \n",
        "        .btn-group {{\n",
        "            margin-bottom: 10px;\n",
        "        }}\n",
        "        \n",
        "        .btn-group button {{\n",
        "            padding: 5px 10px;\n",
        "            font-size: 28px;\n",
        "            margin-right: 5px;\n",
        "        }}\n",
        "        </style>\n",
        "    </head>\n",
        "    <body>\n",
        "        <h1>{title}</h1>\n",
        "        <div class=\"btn-group\">\n",
        "            <button onclick=\"changeFontSize('-5')\">-</button>\n",
        "            <button onclick=\"changeFontSize('+5')\">+</button>\n",
        "        </div>\n",
        "        <p>{content}</p>\n",
        "        \n",
        "        <script>\n",
        "        function changeFontSize(change) {{\n",
        "            var paragraphs = document.getElementsByTagName('p');\n",
        "            for (var i = 0; i < paragraphs.length; i++) {{\n",
        "                var currentSize = parseFloat(window.getComputedStyle(paragraphs[i]).fontSize);\n",
        "                var newSize = currentSize + parseFloat(change);\n",
        "                paragraphs[i].style.fontSize = newSize + 'px';\n",
        "            }}\n",
        "        }}\n",
        "        </script>\n",
        "    </body>\n",
        "    </html>\n",
        "    \"\"\"\n",
        "    \n",
        "    content_html = \"<p>{}</p>\".format(text.replace(\"\\n\", \"</p>\\n<p>\"))\n",
        "    html = html_template.format(title=title, content=content_html)\n",
        "    \n",
        "    return html\n",
        "\n",
        "def get_html_text(text):\n",
        "  #Modifique la lista de nombres y el enlace de wiki si lo desea\n",
        "  character_names = [\n",
        "      \"100_Man_Challenge\",\n",
        "      \"Bi_Sa-Won\",\n",
        "      \"Billowing_Clouds\",\n",
        "      \"Black_Moon\",\n",
        "      \"Broken_Fists_Sect\",\n",
        "      \"Buk_Jin-Hu\",\n",
        "      \"Bul-Yeong\",\n",
        "      \"Central_Heavenly_Alliance\",\n",
        "      \"Cerulean_Dragon_Society\",\n",
        "      \"Chae_Yak-Ran\",\n",
        "      \"Conquerors\",\n",
        "      \"Cultivation\",\n",
        "      \"Dam_Jeok-Shim\",\n",
        "      \"Dam_Jin-Hong\",\n",
        "      \"Dam_Soo-Cheon\",\n",
        "      \"Deceitful_Heavens\",\n",
        "      \"Demon_Extermination_Squad\",\n",
        "      \"Dissolution_of_the_Northern_Heavenly_Sect_Arc\",\n",
        "      \"Episode_10\",\n",
        "      \"Eun_Ha-Seol\",\n",
        "      \"Gathering_of_Ten_Thousand_Shadows\",\n",
        "      \"Geum_Dan-Yeop\",\n",
        "      \"Gong_Son-Chang\",\n",
        "      \"Great_Four_of_the_Northern_Heavens\",\n",
        "      \"Gwan_Mun-Jung\",\n",
        "      \"Ha_Jin-Wol\",\n",
        "      \"Ha_Jin-Wol/Image_Gallery\",\n",
        "      \"Ha_Jin-Wol/Relationships\",\n",
        "      \"Ha_Jin-Wol/Synopsis\",\n",
        "      \"Hae-Min\",\n",
        "      \"Hidden_Ghost_Sect\",\n",
        "      \"Home_of_Ten_Thousand_Spirits\",\n",
        "      \"Hwang-Cheol\",\n",
        "      \"Hyun_Gong-Hwi\",\n",
        "      \"Hyun_Hyun_So\",\n",
        "      \"Im_Jin-Yeop\",\n",
        "      \"Iron_Brigade\",\n",
        "      \"Iron_Castle\",\n",
        "      \"Jae_Hyeok-Shim\",\n",
        "      \"Jah_Moon-Ho\",\n",
        "      \"Jang_Pae-San\",\n",
        "      \"Jaw_Hyeok-Shim\",\n",
        "      \"Jeok-Yeob\",\n",
        "      \"Ji_Sung-Yool\",\n",
        "      \"Jin_Kwan-Ho\",\n",
        "      \"Jin_Mu-Won\",\n",
        "      \"Jin_Mu-Won/Image_Gallery\",\n",
        "      \"Jin_Mu-Won/Relationships\",\n",
        "      \"Jin_Yeoung-Seol\",\n",
        "      \"Jo_Cheon-Woo\",\n",
        "      \"Jo_Un-Kyung\",\n",
        "      \"Jong_Ri_Mu-hwan\",\n",
        "      \"Kyung_Mu-Saeng\",\n",
        "      \"Kyung_Mu-Seang\",\n",
        "      \"Legend_of_the_Northern_Blade\",\n",
        "      \"Legend_of_the_Northern_Blade_Wiki_(Manhwa)\",\n",
        "      \"List_of_Characters\",\n",
        "      \"Lower_Moon_Kingdom\",\n",
        "      \"Main_Page\",\n",
        "      \"Man_Seo-Jin\",\n",
        "      \"Mok_Eun-Pyeong\",\n",
        "      \"Mount_Hua_Sect\",\n",
        "      \"Moyong_Hyun\",\n",
        "      \"Moyong_Yul-Cheon\",\n",
        "      \"Mu-Hwan_of_Wise_Judgment\",\n",
        "      \"Mu_Mountain\",\n",
        "      \"Murim\",\n",
        "      \"Myeong_Ryu-San\",\n",
        "      \"Nam_Moon-San\",\n",
        "      \"Nam_Soo-Ryeon\",\n",
        "      \"Nam_Un-San\",\n",
        "      \"Neung_Goon-Hwi\",\n",
        "      \"Nine_Skies\",\n",
        "      \"Noh_Tae-Tae\",\n",
        "      \"Northern_Heavenly_Sect\",\n",
        "      \"Novel\",\n",
        "      \"Protectors_of_the_Western_Heavens\",\n",
        "      \"Rules_&_Regulations\",\n",
        "      \"Sa-Ryung\",\n",
        "      \"Seo-Moon_Hwa\",\n",
        "      \"Seo-Moon_Hye_Ryung\",\n",
        "      \"Seo_Geum-Hyang\",\n",
        "      \"Seo_Hye-Ryung\",\n",
        "      \"Seo_Moon-Hwa\",\n",
        "      \"Seo_Mu-Sang\",\n",
        "      \"Seven_Lesser_Heavens\",\n",
        "      \"Shim_Mu-Wae\",\n",
        "      \"Shim_Soo-Ah\",\n",
        "      \"Shim_Won-Lee\",\n",
        "      \"Shim_Woo-Lee\",\n",
        "      \"Shredder\",\n",
        "      \"Silent_Night\",\n",
        "      \"Snow_Flower\",\n",
        "      \"Story_Arcs\",\n",
        "      \"Successor_of_the_Northern_Blade\",\n",
        "      \"Successor_of_the_Northern_Heavenly_Sect\",\n",
        "      \"Successor_of_the_Northern_Heavenly_Sect_Arc\",\n",
        "      \"Tae_Mu-Kang\",\n",
        "      \"Tang_Family_of_Sichuan\",\n",
        "      \"Tang_Geon-Woo\",\n",
        "      \"Tang_Gi-Mun\",\n",
        "      \"Tang_Mi-Ryeo\",\n",
        "      \"Third_Mercenary_Group\",\n",
        "      \"Three-Year_War\",\n",
        "      \"Timeline\",\n",
        "      \"Walls_of_Ten_Thousand_Shadows\",\n",
        "      \"West_Gate_Family\",\n",
        "      \"White_Dragon_Merchant_Troupe\",\n",
        "      \"Wraith_Killer_Sect\",\n",
        "      \"Yeon_Cheon-Hwa\",\n",
        "      \"Yeon_Cheon-Wha\",\n",
        "      \"Yeon_So-So\",\n",
        "      \"Yeop-Wol\",\n",
        "      \"Yong_Mu-Sung\",\n",
        "      \"Yoo_Kwang-Yeon\",\n",
        "      \"Yoon_Cheon-Hak\"\n",
        "  ]\n",
        "  character_names = sorted(character_names, key=len, reverse=True)\n",
        "  pretext = text\n",
        "  for character_name in character_names:\n",
        "      name_aux = character_name.replace('_', ' ')\n",
        "      escaped_name = re.sub(r'[-_\\s]', r'[-_# ]?', character_name)\n",
        "      regex = re.compile(f\"{escaped_name}\", re.IGNORECASE)\n",
        "      wiki_link = f'https://legend-of-the-northern-blade.fandom.com/wiki/{character_name}' #enlace wiki\n",
        "      #print(wiki_link)\n",
        "      pretext = regex.sub(f'<a href=\"{wiki_link}\">{name_aux}</a>', pretext, count=1)\n",
        "  return get_html_template(pretext)"
      ],
      "metadata": {
        "id": "OOM95LqDHgTr"
      },
      "execution_count": 10,
      "outputs": []
    },
    {
      "cell_type": "markdown",
      "source": [
        "### Generar archivos HTML\n"
      ],
      "metadata": {
        "id": "KiWoPOQHnvZc"
      }
    },
    {
      "cell_type": "code",
      "source": [
        "import os\n",
        "\n",
        "input_folder = 'input'\n",
        "\n",
        "# Ruta de la carpeta de salida\n",
        "output_folder = 'output_html'\n",
        "\n",
        "# Verificar si la carpeta de salida ya existe\n",
        "if not os.path.exists(output_folder):\n",
        "    # Crear la carpeta de salida si no existe\n",
        "    os.makedirs(output_folder)\n",
        "    print(f\"Carpeta '{output_folder}' creada exitosamente.\")\n",
        "else:\n",
        "    print(f\"La carpeta '{output_folder}' ya existe.\")\n",
        "\n",
        "\n",
        "if not os.path.exists(input_folder):\n",
        "    for filename, content in uploaded_file.items():\n",
        "      file_text = content.decode('utf-8')\n",
        "      translated_text = translate_text(file_text)\n",
        "      html_text = get_html_text(translated_text)\n",
        "      new_filename = f'{output_folder}/' + filename.split('.')[0] + '_es.html'\n",
        "      with open(new_filename, 'w', encoding=\"utf-8\") as file:\n",
        "          file.write(html_text)\n",
        "    print(f\"Traducciones guardadas.\")\n",
        "else:\n",
        "    # Obtener la lista de archivos en la carpeta de entrada\n",
        "    file_list = [file for file in os.listdir(input_folder) if file.endswith('.txt')]\n",
        "    for file_name in file_list:\n",
        "        # Ruta completa de entrada y salida para el archivo actual\n",
        "        input_file_path = os.path.join(input_folder, file_name)\n",
        "        output_file_path = os.path.join(output_folder, file_name)\n",
        "        print(file_name)\n",
        "        with open(input_file_path, 'r') as input_file:\n",
        "            data = input_file.read()\n",
        "            #file_text = content.decode('utf-8')\n",
        "            translated_text = translate_text(data)\n",
        "            html_text = get_html_text(translated_text)\n",
        "            new_filename = os.path.join(output_folder, file_name.split('.')[0] + '_es.html')  # Cambiar extensión a HTML\n",
        "            with open(new_filename, 'w', encoding=\"utf-8\") as file:\n",
        "                file.write(html_text)\n",
        "                print(file.name)\n",
        "\n",
        "        "
      ],
      "metadata": {
        "colab": {
          "base_uri": "https://localhost:8080/"
        },
        "id": "jEvFNI8p42sd",
        "outputId": "dd4e3a6b-e44a-496c-a541-656d38dc55ab"
      },
      "execution_count": 14,
      "outputs": [
        {
          "output_type": "stream",
          "name": "stdout",
          "text": [
            "La carpeta 'output_html' ya existe.\n",
            "Traducciones guardadas.\n"
          ]
        }
      ]
    },
    {
      "cell_type": "markdown",
      "source": [
        "## **Generar zip traducciones**"
      ],
      "metadata": {
        "id": "Zm_HlBESgQrL"
      }
    },
    {
      "cell_type": "code",
      "source": [
        "import shutil\n",
        "import os\n",
        "\n",
        "# Ruta de la carpeta que deseas descargar\n",
        "extension = \"html\" #@param [\"html\", \"txt\"]\n",
        "folder_path = f\"/content/output_{extension}\"\n",
        "\n",
        "# Ruta de destino del archivo ZIP\n",
        "zip_filename = \"/content/traducciones\"\n",
        "\n",
        "# Comprimir la carpeta en un archivo ZIP\n",
        "shutil.make_archive(zip_filename, 'zip', folder_path)\n"
      ],
      "metadata": {
        "colab": {
          "base_uri": "https://localhost:8080/",
          "height": 36
        },
        "id": "82bIi8LSlSlO",
        "outputId": "77de8967-67f8-4d4d-ed13-da67094bbe47"
      },
      "execution_count": null,
      "outputs": [
        {
          "output_type": "execute_result",
          "data": {
            "text/plain": [
              "'/content/traducciones.zip'"
            ],
            "application/vnd.google.colaboratory.intrinsic+json": {
              "type": "string"
            }
          },
          "metadata": {},
          "execution_count": 14
        }
      ]
    },
    {
      "cell_type": "markdown",
      "source": [
        "## **Text to speech coqui -TTS**: Ejecutar para obtener un audio con el texto traducido\n",
        "\n",
        "Usar un entorno de ejecución con GPU\n"
      ],
      "metadata": {
        "id": "M4IJmT6wnb5W"
      }
    },
    {
      "cell_type": "code",
      "source": [
        "!pip install TTS==0.12.0\n",
        "!pip install pycountry\n",
        "from TTS.api import TTS\n",
        "\n",
        "TTS.list_models()"
      ],
      "metadata": {
        "id": "hf1Kx82urnqo"
      },
      "execution_count": null,
      "outputs": []
    },
    {
      "cell_type": "code",
      "source": [
        "import pycountry\n",
        "\n",
        "languages = set()\n",
        "\n",
        "for model_name in TTS.list_models():\n",
        "  country_code = model_name.split(\"/\")[1]\n",
        "  country_language = pycountry.languages.get(alpha_2=country_code)\n",
        "  if country_language is not None:\n",
        "    print(\"{0}: {1}\".format(country_language.name, model_name))\n",
        "    languages.add(country_language.name)\n",
        "\n",
        "print()\n",
        "print(\"Unique Languages ({0}):\".format(len(languages)))\n",
        "print(languages)"
      ],
      "metadata": {
        "id": "i8_ug-STJhn_"
      },
      "execution_count": null,
      "outputs": []
    },
    {
      "cell_type": "code",
      "source": [
        "file_name = \"\" #@param {type:\"string\"}\n",
        "with open(file_name, 'r', encoding='utf-8') as f:\n",
        "    text = ' '.join([l for l in f.readlines()])"
      ],
      "metadata": {
        "id": "bRExkUl2uNzg"
      },
      "execution_count": null,
      "outputs": []
    },
    {
      "cell_type": "code",
      "source": [
        "# Init TTS with the target model name\n",
        "model = \"tts_models/es/css10/vits\" #@param {type:\"string\"}\n",
        "tts = TTS(model_name=model, progress_bar=True, gpu=True)\n",
        "# Run TTS\n",
        "\n",
        "tts.tts_to_file(text=text, file_path=f\"{file_name}.wav\")"
      ],
      "metadata": {
        "id": "1PSNVNY2ucDH"
      },
      "execution_count": null,
      "outputs": []
    },
    {
      "cell_type": "code",
      "source": [
        "from IPython.display import Audio\n",
        "\n",
        "Audio(f'{file_name}.wav')"
      ],
      "metadata": {
        "id": "F9dOUDoLx9fY"
      },
      "execution_count": null,
      "outputs": []
    }
  ]
}